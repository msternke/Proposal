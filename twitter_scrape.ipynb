{
 "cells": [
  {
   "cell_type": "code",
   "execution_count": 1,
   "metadata": {},
   "outputs": [],
   "source": [
    "from twitterscraper import query_tweets_from_user\n",
    "import datetime as dt\n",
    "import pandas as pd\n",
    "import tweepy\n",
    "import time\n",
    "import nltk\n",
    "\n",
    "import config"
   ]
  },
  {
   "cell_type": "code",
   "execution_count": 2,
   "metadata": {},
   "outputs": [],
   "source": [
    "# Creating the authentication object\n",
    "auth = tweepy.OAuthHandler(config.consumer_key, config.consumer_secret)\n",
    "# Setting your access token and secret\n",
    "auth.set_access_token(config.access_token, config.access_token_secret)\n",
    "# Creating the API object while passing in auth information\n",
    "api = tweepy.API(auth) "
   ]
  },
  {
   "cell_type": "code",
   "execution_count": 4,
   "metadata": {},
   "outputs": [],
   "source": [
    "def scrape_tweets(user_list, n_tweets):\n",
    "    \n",
    "    for user in user_list:\n",
    "        \n",
    "        try:\n",
    "            tweets = tweepy.Cursor(api.user_timeline, id=user, lang=\"en\", tweet_mode=\"extended\").items(n_tweets)\n",
    "\n",
    "            tweets_list = [[tweet.created_at, tweet.id, tweet.full_text] for tweet in tweets]\n",
    "\n",
    "            tweets_df = pd.DataFrame(tweets_list, columns=['timestamp', 'tweet_id', 'tweet_text'])\n",
    "            \n",
    "            tweets_df.to_csv(f'data/{user}_tweets.csv')\n",
    "            \n",
    "            print(f'Completed scraping for: {user}')\n",
    "\n",
    "        except BaseException as e:\n",
    "            print('failed on_status,',str(e))\n",
    "            time.sleep(3)\n",
    "            \n",
    "        time.sleep(920)\n",
    "        \n",
    "twitter_handles_national = ['joebiden', 'AOC', 'SpeakerPelosi', 'realDonaldTrump', 'SenatorCollins', 'tedcruz', 'Mike_Pence'\n",
    "                           'HowieHawkins', 'Mfume4Congress', 'mia4md', 'Wrightforbalti1', 'kimKBaltimore', \n",
    "                           'GovLarryHogan', 'RobertLWallace']\n",
    "\n",
    "scrape_tweets(twitter_handles_national, 2000)\n",
    "    "
   ]
  },
  {
   "cell_type": "code",
   "execution_count": null,
   "metadata": {},
   "outputs": [],
   "source": []
  }
 ],
 "metadata": {
  "kernelspec": {
   "display_name": "Python 3",
   "language": "python",
   "name": "python3"
  },
  "language_info": {
   "codemirror_mode": {
    "name": "ipython",
    "version": 3
   },
   "file_extension": ".py",
   "mimetype": "text/x-python",
   "name": "python",
   "nbconvert_exporter": "python",
   "pygments_lexer": "ipython3",
   "version": "3.7.8"
  }
 },
 "nbformat": 4,
 "nbformat_minor": 4
}
